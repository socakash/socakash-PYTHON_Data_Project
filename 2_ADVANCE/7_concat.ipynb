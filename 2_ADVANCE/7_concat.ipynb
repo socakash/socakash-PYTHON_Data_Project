{
 "cells": [
  {
   "cell_type": "code",
   "execution_count": 4,
   "id": "5785bc0a",
   "metadata": {},
   "outputs": [],
   "source": [
    "import pandas as pd\n",
    "import matplotlib.pyplot as plt"
   ]
  },
  {
   "cell_type": "code",
   "execution_count": 5,
   "id": "92659825",
   "metadata": {},
   "outputs": [],
   "source": [
    "file = pd.read_csv('C:\\\\Users\\\\akash\\\\Downloads\\\\PYTHON\\\\data_jobs.csv')"
   ]
  },
  {
   "cell_type": "code",
   "execution_count": null,
   "id": "6f2e1b51",
   "metadata": {},
   "outputs": [],
   "source": [
    "file.job_posted_date = pd.to_datetime(file.job_posted_date)\n",
    "\n",
    "file['job_posted_month'] = file.job_posted_date.dt.month_name()\n",
    "file_new = file.copy()"
   ]
  },
  {
   "cell_type": "code",
   "execution_count": null,
   "id": "ea05a3ab",
   "metadata": {},
   "outputs": [],
   "source": [
    "jan_jobs = file_new[file_new['job_posted_month'] == 'January']\n",
    "feb_jobs = file_new[file_new['job_posted_month'] == 'February']\n",
    "mar_jobs = file_new[file_new['job_posted_month'] == 'March']"
   ]
  },
  {
   "cell_type": "code",
   "execution_count": null,
   "id": "7fe126b1",
   "metadata": {},
   "outputs": [],
   "source": [
    "pd.concat([jan_jobs, feb_jobs, mar_jobs], ignore_index= True)"
   ]
  }
 ],
 "metadata": {
  "kernelspec": {
   "display_name": "base",
   "language": "python",
   "name": "python3"
  },
  "language_info": {
   "codemirror_mode": {
    "name": "ipython",
    "version": 3
   },
   "file_extension": ".py",
   "mimetype": "text/x-python",
   "name": "python",
   "nbconvert_exporter": "python",
   "pygments_lexer": "ipython3",
   "version": "3.12.7"
  }
 },
 "nbformat": 4,
 "nbformat_minor": 5
}
