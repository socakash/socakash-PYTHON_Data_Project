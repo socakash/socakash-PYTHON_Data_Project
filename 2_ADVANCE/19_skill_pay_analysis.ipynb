{
 "cells": [
  {
   "cell_type": "code",
   "execution_count": 41,
   "id": "a911ecea",
   "metadata": {},
   "outputs": [],
   "source": [
    "import pandas as pd\n",
    "import matplotlib.pyplot as plt\n",
    "import ast"
   ]
  },
  {
   "cell_type": "code",
   "execution_count": 42,
   "id": "2ef8a386",
   "metadata": {},
   "outputs": [
    {
     "data": {
      "text/html": [
       "<div>\n",
       "<style scoped>\n",
       "    .dataframe tbody tr th:only-of-type {\n",
       "        vertical-align: middle;\n",
       "    }\n",
       "\n",
       "    .dataframe tbody tr th {\n",
       "        vertical-align: top;\n",
       "    }\n",
       "\n",
       "    .dataframe thead th {\n",
       "        text-align: right;\n",
       "    }\n",
       "</style>\n",
       "<table border=\"1\" class=\"dataframe\">\n",
       "  <thead>\n",
       "    <tr style=\"text-align: right;\">\n",
       "      <th></th>\n",
       "      <th>job_title_short</th>\n",
       "      <th>job_title</th>\n",
       "      <th>job_location</th>\n",
       "      <th>job_via</th>\n",
       "      <th>job_schedule_type</th>\n",
       "      <th>job_work_from_home</th>\n",
       "      <th>search_location</th>\n",
       "      <th>job_posted_date</th>\n",
       "      <th>job_no_degree_mention</th>\n",
       "      <th>job_health_insurance</th>\n",
       "      <th>job_country</th>\n",
       "      <th>salary_rate</th>\n",
       "      <th>salary_year_avg</th>\n",
       "      <th>salary_hour_avg</th>\n",
       "      <th>company_name</th>\n",
       "      <th>job_skills</th>\n",
       "      <th>job_type_skills</th>\n",
       "    </tr>\n",
       "  </thead>\n",
       "  <tbody>\n",
       "    <tr>\n",
       "      <th>0</th>\n",
       "      <td>Senior Data Engineer</td>\n",
       "      <td>Senior Clinical Data Engineer / Principal Clin...</td>\n",
       "      <td>Watertown, CT</td>\n",
       "      <td>via Work Nearby</td>\n",
       "      <td>Full-time</td>\n",
       "      <td>False</td>\n",
       "      <td>Texas, United States</td>\n",
       "      <td>2023-06-16 13:44:15</td>\n",
       "      <td>False</td>\n",
       "      <td>False</td>\n",
       "      <td>United States</td>\n",
       "      <td>NaN</td>\n",
       "      <td>NaN</td>\n",
       "      <td>NaN</td>\n",
       "      <td>Boehringer Ingelheim</td>\n",
       "      <td>NaN</td>\n",
       "      <td>NaN</td>\n",
       "    </tr>\n",
       "  </tbody>\n",
       "</table>\n",
       "</div>"
      ],
      "text/plain": [
       "        job_title_short                                          job_title  \\\n",
       "0  Senior Data Engineer  Senior Clinical Data Engineer / Principal Clin...   \n",
       "\n",
       "    job_location          job_via job_schedule_type  job_work_from_home  \\\n",
       "0  Watertown, CT  via Work Nearby         Full-time               False   \n",
       "\n",
       "        search_location      job_posted_date  job_no_degree_mention  \\\n",
       "0  Texas, United States  2023-06-16 13:44:15                  False   \n",
       "\n",
       "   job_health_insurance    job_country salary_rate  salary_year_avg  \\\n",
       "0                 False  United States         NaN              NaN   \n",
       "\n",
       "   salary_hour_avg          company_name job_skills job_type_skills  \n",
       "0              NaN  Boehringer Ingelheim        NaN             NaN  "
      ]
     },
     "execution_count": 42,
     "metadata": {},
     "output_type": "execute_result"
    }
   ],
   "source": [
    "file = pd.read_csv('C:\\\\Users\\\\akash\\\\Downloads\\\\PYTHON\\\\data_jobs.csv')\n",
    "file.head(1)"
   ]
  },
  {
   "cell_type": "code",
   "execution_count": 43,
   "id": "28eb3884",
   "metadata": {},
   "outputs": [],
   "source": [
    "# clean \n",
    "\n",
    "file.job_posted_date = pd.to_datetime(file.job_posted_date)\n",
    "\n",
    "file.dropna(subset= ['job_skills'], inplace= True)\n",
    "file['job_skills'] = file.job_skills.apply(lambda skills: ast.literal_eval(skills))"
   ]
  },
  {
   "cell_type": "code",
   "execution_count": null,
   "id": "d7e559a8",
   "metadata": {},
   "outputs": [],
   "source": [
    "file.dropna(subset= ['salary_year_avg'], inplace= True)\n",
    "df_da_canada = file.copy()"
   ]
  },
  {
   "cell_type": "code",
   "execution_count": 47,
   "id": "247c0a1e",
   "metadata": {},
   "outputs": [
    {
     "data": {
      "text/plain": [
       "array(['Data Scientist', 'Data Engineer', 'Data Analyst',\n",
       "       'Senior Data Engineer', 'Business Analyst', 'Software Engineer',\n",
       "       'Senior Data Analyst', 'Machine Learning Engineer',\n",
       "       'Senior Data Scientist', 'Cloud Engineer'], dtype=object)"
      ]
     },
     "execution_count": 47,
     "metadata": {},
     "output_type": "execute_result"
    }
   ],
   "source": [
    "df_da_canada.job_title_short.unique()"
   ]
  },
  {
   "cell_type": "code",
   "execution_count": 53,
   "id": "bbc05ce8",
   "metadata": {},
   "outputs": [],
   "source": [
    "# look for Data analyst salary in Canada only \n",
    "df_da_canada = df_da_canada[df_da_canada.job_title_short.isin(['Data Scientist', 'Data Engineer', 'Data Analyst','Business Analyst']) & (df_da_canada.job_country == 'Canada')]\n"
   ]
  },
  {
   "cell_type": "code",
   "execution_count": 57,
   "id": "d6f09470",
   "metadata": {},
   "outputs": [
    {
     "data": {
      "text/html": [
       "<div>\n",
       "<style scoped>\n",
       "    .dataframe tbody tr th:only-of-type {\n",
       "        vertical-align: middle;\n",
       "    }\n",
       "\n",
       "    .dataframe tbody tr th {\n",
       "        vertical-align: top;\n",
       "    }\n",
       "\n",
       "    .dataframe thead th {\n",
       "        text-align: right;\n",
       "    }\n",
       "</style>\n",
       "<table border=\"1\" class=\"dataframe\">\n",
       "  <thead>\n",
       "    <tr style=\"text-align: right;\">\n",
       "      <th></th>\n",
       "      <th>salary_year_avg</th>\n",
       "      <th>job_skills</th>\n",
       "    </tr>\n",
       "  </thead>\n",
       "  <tbody>\n",
       "    <tr>\n",
       "      <th>5554</th>\n",
       "      <td>64600.0</td>\n",
       "      <td>sql</td>\n",
       "    </tr>\n",
       "    <tr>\n",
       "      <th>5554</th>\n",
       "      <td>64600.0</td>\n",
       "      <td>power bi</td>\n",
       "    </tr>\n",
       "    <tr>\n",
       "      <th>10270</th>\n",
       "      <td>125000.0</td>\n",
       "      <td>golang</td>\n",
       "    </tr>\n",
       "    <tr>\n",
       "      <th>10270</th>\n",
       "      <td>125000.0</td>\n",
       "      <td>kotlin</td>\n",
       "    </tr>\n",
       "    <tr>\n",
       "      <th>10270</th>\n",
       "      <td>125000.0</td>\n",
       "      <td>scala</td>\n",
       "    </tr>\n",
       "    <tr>\n",
       "      <th>...</th>\n",
       "      <td>...</td>\n",
       "      <td>...</td>\n",
       "    </tr>\n",
       "    <tr>\n",
       "      <th>783881</th>\n",
       "      <td>175000.0</td>\n",
       "      <td>oracle</td>\n",
       "    </tr>\n",
       "    <tr>\n",
       "      <th>783881</th>\n",
       "      <td>175000.0</td>\n",
       "      <td>hadoop</td>\n",
       "    </tr>\n",
       "    <tr>\n",
       "      <th>783881</th>\n",
       "      <td>175000.0</td>\n",
       "      <td>spark</td>\n",
       "    </tr>\n",
       "    <tr>\n",
       "      <th>783881</th>\n",
       "      <td>175000.0</td>\n",
       "      <td>kafka</td>\n",
       "    </tr>\n",
       "    <tr>\n",
       "      <th>783881</th>\n",
       "      <td>175000.0</td>\n",
       "      <td>windows</td>\n",
       "    </tr>\n",
       "  </tbody>\n",
       "</table>\n",
       "<p>1829 rows × 2 columns</p>\n",
       "</div>"
      ],
      "text/plain": [
       "        salary_year_avg job_skills\n",
       "5554            64600.0        sql\n",
       "5554            64600.0   power bi\n",
       "10270          125000.0     golang\n",
       "10270          125000.0     kotlin\n",
       "10270          125000.0      scala\n",
       "...                 ...        ...\n",
       "783881         175000.0     oracle\n",
       "783881         175000.0     hadoop\n",
       "783881         175000.0      spark\n",
       "783881         175000.0      kafka\n",
       "783881         175000.0    windows\n",
       "\n",
       "[1829 rows x 2 columns]"
      ]
     },
     "execution_count": 57,
     "metadata": {},
     "output_type": "execute_result"
    }
   ],
   "source": [
    "df_da_canada = df_da_canada.explode('job_skills')\n",
    "\n",
    "df_da_canada [['salary_year_avg' , 'job_skills']]"
   ]
  },
  {
   "cell_type": "code",
   "execution_count": 65,
   "id": "f1ae6afc",
   "metadata": {},
   "outputs": [
    {
     "name": "stdout",
     "output_type": "stream",
     "text": [
      "            count    median\n",
      "job_skills                 \n",
      "python        175  100000.0\n",
      "sql           171  100500.0\n",
      "aws           102  121250.0\n",
      "spark          77  111175.0\n",
      "azure          69   90000.0\n",
      "java           51  105000.0\n",
      "snowflake      51  125000.0\n",
      "kafka          50  100000.0\n",
      "hadoop         47  120000.0\n",
      "tableau        46   99575.0             count    median\n",
      "job_skills                 \n",
      "mongo           1  211000.0\n",
      "ubuntu          1  175000.0\n",
      "no-sql          4  175000.0\n",
      "rust            2  161562.5\n",
      "elixir          1  161250.0\n",
      "seaborn         3  157500.0\n",
      "dax             3  155904.5\n",
      "looker         16  152250.0\n",
      "aurora          1  147500.0\n",
      "phoenix         2  143125.0\n"
     ]
    }
   ],
   "source": [
    "df_da_canada_group = df_da_canada.groupby('job_skills')['salary_year_avg'].agg(['count', 'median'])\n",
    "\n",
    "df_da_canada_pay = df_da_canada_group.sort_values(by= 'count', ascending= False).head(10)\n",
    "df_da_canada_skill = df_da_canada_group.sort_values(by= 'median', ascending= False).head(10)\n",
    "print(df_da_canada_pay , df_da_canada_skill)"
   ]
  },
  {
   "cell_type": "code",
   "execution_count": 69,
   "id": "471d845f",
   "metadata": {},
   "outputs": [
    {
     "data": {
      "text/plain": [
       "<Axes: ylabel='job_skills'>"
      ]
     },
     "execution_count": 69,
     "metadata": {},
     "output_type": "execute_result"
    },
    {
     "data": {
      "image/png": "[encoded data removed]",
      "text/plain": [
       "<Figure size 640x480 with 2 Axes>"
      ]
     },
     "metadata": {},
     "output_type": "display_data"
    }
   ],
   "source": [
    "fig, ax = plt.subplots(2,1)\n",
    "\n",
    "df_da_canada_pay.plot(kind='barh',y='median', ax = ax[0])\n",
    "df_da_canada_skill.plot(kind='barh',y= 'median', ax= ax[1])"
   ]
  }
 ],
 "metadata": {
  "kernelspec": {
   "display_name": "base",
   "language": "python",
   "name": "python3"
  },
  "language_info": {
   "codemirror_mode": {
    "name": "ipython",
    "version": 3
   },
   "file_extension": ".py",
   "mimetype": "text/x-python",
   "name": "python",
   "nbconvert_exporter": "python",
   "pygments_lexer": "ipython3",
   "version": "3.12.7"
  }
 },
 "nbformat": 4,
 "nbformat_minor": 5
}
