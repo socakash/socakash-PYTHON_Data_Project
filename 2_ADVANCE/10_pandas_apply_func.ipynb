{
 "cells": [
  {
   "cell_type": "code",
   "execution_count": 1,
   "id": "68521216",
   "metadata": {},
   "outputs": [],
   "source": [
    "import pandas as pd\n",
    "import matplotlib as plt\n",
    "\n",
    "file = pd.read_csv('C:\\\\Users\\\\akash\\\\Downloads\\\\PYTHON\\\\data_jobs.csv')\n",
    "\n",
    "file.job_posted_date = pd.to_datetime(file.job_posted_date)\n",
    "\n",
    "file['job_posted_month'] = file.job_posted_date.dt.month_name()"
   ]
  },
  {
   "cell_type": "code",
   "execution_count": 18,
   "id": "d99e6cac",
   "metadata": {},
   "outputs": [],
   "source": [
    "file_new  = file.dropna(subset='salary_year_avg')\n",
    "file_new = file_new.drop(\n",
    "    columns= ['salary_hour_avg', \n",
    "              'job_via', \n",
    "              'job_schedule_type',\n",
    "              'job_work_from_home',\n",
    "              'search_location',\n",
    "              'job_posted_date',\n",
    "              'job_no_degree_mention',\n",
    "              'job_health_insurance',\n",
    "              'salary_rate'\n",
    "              ])"
   ]
  },
  {
   "cell_type": "code",
   "execution_count": null,
   "id": "a724c317",
   "metadata": {},
   "outputs": [],
   "source": [
    "# define function and use it \n",
    "\n",
    "def projected_salary (salary):\n",
    "    salary = 1.03* salary\n",
    "    return(salary)\n",
    "file_new['new_salary'] = file_new.salary_year_avg.apply(projected_salary)\n"
   ]
  },
  {
   "cell_type": "code",
   "execution_count": 28,
   "id": "7ca68175",
   "metadata": {},
   "outputs": [],
   "source": [
    "file_new = file_new.drop('new_salary', axis=1)"
   ]
  },
  {
   "cell_type": "code",
   "execution_count": null,
   "id": "66bfbb37",
   "metadata": {},
   "outputs": [],
   "source": [
    "# senior postion will have 5% while others have 3% hike \n",
    "\n",
    "file_new"
   ]
  }
 ],
 "metadata": {
  "kernelspec": {
   "display_name": "base",
   "language": "python",
   "name": "python3"
  },
  "language_info": {
   "codemirror_mode": {
    "name": "ipython",
    "version": 3
   },
   "file_extension": ".py",
   "mimetype": "text/x-python",
   "name": "python",
   "nbconvert_exporter": "python",
   "pygments_lexer": "ipython3",
   "version": "3.12.7"
  }
 },
 "nbformat": 4,
 "nbformat_minor": 5
}
