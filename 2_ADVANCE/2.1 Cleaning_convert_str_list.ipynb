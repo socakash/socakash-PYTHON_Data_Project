{
 "cells": [
  {
   "cell_type": "code",
   "execution_count": 1,
   "id": "3c0189a2",
   "metadata": {},
   "outputs": [
    {
     "data": {
      "text/plain": [
       "job_skills\n",
       "sql         8810\n",
       "python      8433\n",
       "aws         4185\n",
       "azure       4013\n",
       "spark       3484\n",
       "            ... \n",
       "lisp           1\n",
       "erlang         1\n",
       "electron       1\n",
       "cordova        1\n",
       "heroku         1\n",
       "Name: count, Length: 216, dtype: int64"
      ]
     },
     "execution_count": 1,
     "metadata": {},
     "output_type": "execute_result"
    }
   ],
   "source": [
    "import pandas as pd\n",
    "import matplotlib as plt\n",
    "import ast \n",
    "\n",
    "file = pd.read_csv('C:\\\\Users\\\\akash\\\\Downloads\\\\PYTHON\\\\data_jobs.csv')\n",
    "\n",
    "#file.job_posted_date = pd.to_datetime(file.job_posted_date)\n",
    "\n",
    "#file['job_posted_month'] = file.job_posted_date.dt.month_name()\n",
    "\n",
    "file_new = file.copy()\n",
    "\n",
    "file_new = file_new[(file_new.job_skills.notna()) & (file_new.job_country == 'Canada')][['job_title_short','job_skills']]\n",
    "\n",
    "file_new['job_skills'] = file_new.job_skills.apply(lambda skills: ast.literal_eval(skills))  \n",
    "\n",
    "file_new['job_skills'].explode().value_counts()"
   ]
  }
 ],
 "metadata": {
  "kernelspec": {
   "display_name": "base",
   "language": "python",
   "name": "python3"
  },
  "language_info": {
   "codemirror_mode": {
    "name": "ipython",
    "version": 3
   },
   "file_extension": ".py",
   "mimetype": "text/x-python",
   "name": "python",
   "nbconvert_exporter": "python",
   "pygments_lexer": "ipython3",
   "version": "3.12.7"
  }
 },
 "nbformat": 4,
 "nbformat_minor": 5
}
