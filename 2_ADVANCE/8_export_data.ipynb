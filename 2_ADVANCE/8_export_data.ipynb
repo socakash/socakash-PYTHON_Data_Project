{
 "cells": [
  {
   "cell_type": "code",
   "execution_count": null,
   "id": "7afaea69",
   "metadata": {},
   "outputs": [],
   "source": [
    "import pandas as pd\n",
    "import matplotlib as plt\n",
    "\n",
    "file = pd.read_csv('C:\\\\Users\\\\akash\\\\Downloads\\\\PYTHON\\\\data_jobs.csv')\n",
    "file\n"
   ]
  },
  {
   "cell_type": "code",
   "execution_count": 11,
   "id": "ed808591",
   "metadata": {},
   "outputs": [],
   "source": [
    "file.job_posted_date = pd.to_datetime(file.job_posted_date)\n",
    "\n",
    "file['job_posted_month'] = file.job_posted_date.dt.month_name()"
   ]
  },
  {
   "cell_type": "code",
   "execution_count": 17,
   "id": "53fddf90",
   "metadata": {},
   "outputs": [],
   "source": [
    "jan_jobs = file[(file['job_posted_month']== 'January') & (file['job_country'] == 'Canada')]\n",
    "jan_jobs.set_index('job_title_short', inplace= True)"
   ]
  },
  {
   "cell_type": "code",
   "execution_count": 18,
   "id": "ce6137f1",
   "metadata": {},
   "outputs": [],
   "source": [
    "jan_jobs.to_excel('Jan_Jobs.xlsx')"
   ]
  }
 ],
 "metadata": {
  "kernelspec": {
   "display_name": "base",
   "language": "python",
   "name": "python3"
  },
  "language_info": {
   "codemirror_mode": {
    "name": "ipython",
    "version": 3
   },
   "file_extension": ".py",
   "mimetype": "text/x-python",
   "name": "python",
   "nbconvert_exporter": "python",
   "pygments_lexer": "ipython3",
   "version": "3.12.7"
  }
 },
 "nbformat": 4,
 "nbformat_minor": 5
}
