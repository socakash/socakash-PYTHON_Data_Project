{
 "cells": [
  {
   "cell_type": "code",
   "execution_count": null,
   "id": "a117e1df",
   "metadata": {},
   "outputs": [],
   "source": [
    "# Importing Libraries\n",
    "import pandas as pd\n",
    "import numpy as np\n",
    "import matplotlib.pyplot as plt\n"
   ]
  },
  {
   "cell_type": "code",
   "execution_count": 45,
   "id": "365e93fe",
   "metadata": {},
   "outputs": [],
   "source": [
    "# Loading File\n",
    "file = pd.read_csv('C:/Users/akash/Downloads/PYTHON/data_jobs.csv')"
   ]
  },
  {
   "cell_type": "code",
   "execution_count": null,
   "id": "9a69e050",
   "metadata": {},
   "outputs": [],
   "source": [
    "# Cleaning Data and checking for data type \n",
    "file.info()\n",
    "file.job_posted_date = pd.to_datetime(file.job_posted_date)"
   ]
  },
  {
   "cell_type": "code",
   "execution_count": null,
   "id": "359aca93",
   "metadata": {},
   "outputs": [],
   "source": [
    "# check specific rows by index\n",
    "\n",
    "file.iloc[1]"
   ]
  },
  {
   "cell_type": "code",
   "execution_count": null,
   "id": "9e476e9d",
   "metadata": {},
   "outputs": [],
   "source": [
    "# Check range of rows\n",
    "\n",
    "file.iloc[10:20]"
   ]
  },
  {
   "cell_type": "code",
   "execution_count": null,
   "id": "094ff456",
   "metadata": {},
   "outputs": [],
   "source": [
    "# use loc method to check specific colums and slice them if needed -.loc[rows(:), columns:]\n",
    "\n",
    "file.loc[0:10, ['job_title_short', 'company_name', 'job_country']]"
   ]
  },
  {
   "cell_type": "code",
   "execution_count": 43,
   "id": "c5e5e8a0",
   "metadata": {},
   "outputs": [],
   "source": [
    "# remove all non value from column and save to file itself\n",
    "file.dropna(subset=['salary_year_avg'], inplace= True)"
   ]
  },
  {
   "cell_type": "code",
   "execution_count": null,
   "id": "fafd782a",
   "metadata": {},
   "outputs": [],
   "source": []
  }
 ],
 "metadata": {
  "kernelspec": {
   "display_name": "base",
   "language": "python",
   "name": "python3"
  },
  "language_info": {
   "codemirror_mode": {
    "name": "ipython",
    "version": 3
   },
   "file_extension": ".py",
   "mimetype": "text/x-python",
   "name": "python",
   "nbconvert_exporter": "python",
   "pygments_lexer": "ipython3",
   "version": "3.12.7"
  }
 },
 "nbformat": 4,
 "nbformat_minor": 5
}
