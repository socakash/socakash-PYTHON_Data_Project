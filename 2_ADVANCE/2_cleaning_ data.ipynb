{
 "cells": [
  {
   "cell_type": "code",
   "execution_count": 13,
   "id": "6e02b869",
   "metadata": {},
   "outputs": [],
   "source": [
    "# Importing Libraries\n",
    "import pandas as pd\n",
    "import numpy as np\n",
    "import matplotlib.pyplot as plt\n",
    "\n",
    "# Loading File\n",
    "file = pd.read_csv('C:/Users/akash/Downloads/PYTHON/data_jobs.csv')\n",
    "\n",
    "# Cleaning Data and checking for data type \n",
    "file.job_posted_date = pd.to_datetime(file.job_posted_date)"
   ]
  },
  {
   "cell_type": "code",
   "execution_count": 7,
   "id": "05406112",
   "metadata": {},
   "outputs": [
    {
     "data": {
      "text/plain": [
       "115000.0"
      ]
     },
     "execution_count": 7,
     "metadata": {},
     "output_type": "execute_result"
    }
   ],
   "source": [
    "# Calc Median for salary_year_avg\n",
    "median_year_salary = file.salary_year_avg.median()\n",
    "median_year_salary"
   ]
  },
  {
   "cell_type": "code",
   "execution_count": 8,
   "id": "5bdb4be5",
   "metadata": {},
   "outputs": [
    {
     "data": {
      "text/plain": [
       "45.97999954223633"
      ]
     },
     "execution_count": 8,
     "metadata": {},
     "output_type": "execute_result"
    }
   ],
   "source": [
    "# calculate Median for salary_hour_avg\n",
    "median_hour_salary = file.salary_hour_avg.median()\n",
    "median_hour_salary "
   ]
  },
  {
   "cell_type": "code",
   "execution_count": 17,
   "id": "9ee600c9",
   "metadata": {},
   "outputs": [],
   "source": [
    "file_fill = file\n",
    "file_fill.salary_year_avg = file.salary_year_avg.fillna(median_year_salary)\n",
    "file_fill.salary_hour_avg = file.salary_hour_avg.fillna(median_hour_salary)"
   ]
  },
  {
   "cell_type": "code",
   "execution_count": 22,
   "id": "1626c058",
   "metadata": {},
   "outputs": [
    {
     "data": {
      "text/html": [
       "<div>\n",
       "<style scoped>\n",
       "    .dataframe tbody tr th:only-of-type {\n",
       "        vertical-align: middle;\n",
       "    }\n",
       "\n",
       "    .dataframe tbody tr th {\n",
       "        vertical-align: top;\n",
       "    }\n",
       "\n",
       "    .dataframe thead th {\n",
       "        text-align: right;\n",
       "    }\n",
       "</style>\n",
       "<table border=\"1\" class=\"dataframe\">\n",
       "  <thead>\n",
       "    <tr style=\"text-align: right;\">\n",
       "      <th></th>\n",
       "      <th>salary_year_avg</th>\n",
       "      <th>salary_hour_avg</th>\n",
       "    </tr>\n",
       "  </thead>\n",
       "  <tbody>\n",
       "    <tr>\n",
       "      <th>0</th>\n",
       "      <td>115000.0</td>\n",
       "      <td>45.98</td>\n",
       "    </tr>\n",
       "    <tr>\n",
       "      <th>1</th>\n",
       "      <td>115000.0</td>\n",
       "      <td>45.98</td>\n",
       "    </tr>\n",
       "    <tr>\n",
       "      <th>2</th>\n",
       "      <td>115000.0</td>\n",
       "      <td>45.98</td>\n",
       "    </tr>\n",
       "    <tr>\n",
       "      <th>3</th>\n",
       "      <td>115000.0</td>\n",
       "      <td>45.98</td>\n",
       "    </tr>\n",
       "    <tr>\n",
       "      <th>4</th>\n",
       "      <td>115000.0</td>\n",
       "      <td>45.98</td>\n",
       "    </tr>\n",
       "    <tr>\n",
       "      <th>5</th>\n",
       "      <td>115000.0</td>\n",
       "      <td>45.98</td>\n",
       "    </tr>\n",
       "  </tbody>\n",
       "</table>\n",
       "</div>"
      ],
      "text/plain": [
       "   salary_year_avg  salary_hour_avg\n",
       "0         115000.0            45.98\n",
       "1         115000.0            45.98\n",
       "2         115000.0            45.98\n",
       "3         115000.0            45.98\n",
       "4         115000.0            45.98\n",
       "5         115000.0            45.98"
      ]
     },
     "execution_count": 22,
     "metadata": {},
     "output_type": "execute_result"
    }
   ],
   "source": [
    "file_fill.loc[0:5, ['salary_year_avg', 'salary_hour_avg']]"
   ]
  },
  {
   "cell_type": "code",
   "execution_count": 25,
   "id": "73a2e844",
   "metadata": {},
   "outputs": [
    {
     "name": "stdout",
     "output_type": "stream",
     "text": [
      "length - original =  785741\n",
      "length after drop =  241850\n",
      "TOTAL no of row dropped =  543891\n"
     ]
    }
   ],
   "source": [
    "# DROP DUPLICATE\n",
    "\n",
    "file_unique = file_fill\n",
    "\n",
    "file_unique = file_unique.drop_duplicates(subset= ['job_title_short', 'company_name'])\n",
    "\n",
    "print('length - original = ' , len(file_fill))\n",
    "print('length after drop = '  ,len(file_unique))\n",
    "print('TOTAL no of row dropped = ', len(file_fill)- len(file_unique))"
   ]
  },
  {
   "cell_type": "code",
   "execution_count": null,
   "id": "7448687a",
   "metadata": {},
   "outputs": [],
   "source": [
    "file_unique = file_unique.drop(columns= ['job_via', 'search_location', 'job_health_insurance', 'salary_rate'])\n"
   ]
  },
  {
   "cell_type": "code",
   "execution_count": 32,
   "id": "504375e0",
   "metadata": {},
   "outputs": [],
   "source": [
    "file_unique = file_unique.drop(columns= ['job_no_degree_mention'])"
   ]
  },
  {
   "cell_type": "code",
   "execution_count": null,
   "id": "1106076d",
   "metadata": {},
   "outputs": [],
   "source": [
    "file_unique"
   ]
  }
 ],
 "metadata": {
  "kernelspec": {
   "display_name": "base",
   "language": "python",
   "name": "python3"
  },
  "language_info": {
   "codemirror_mode": {
    "name": "ipython",
    "version": 3
   },
   "file_extension": ".py",
   "mimetype": "text/x-python",
   "name": "python",
   "nbconvert_exporter": "python",
   "pygments_lexer": "ipython3",
   "version": "3.12.7"
  }
 },
 "nbformat": 4,
 "nbformat_minor": 5
}
