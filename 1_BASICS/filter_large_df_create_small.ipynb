{
 "cells": [
  {
   "cell_type": "code",
   "execution_count": 2,
   "id": "d88d0038",
   "metadata": {},
   "outputs": [
    {
     "data": {
      "text/plain": [
       "pandas.core.frame.DataFrame"
      ]
     },
     "execution_count": 2,
     "metadata": {},
     "output_type": "execute_result"
    }
   ],
   "source": [
    "import matplotlib.pyplot as plt\n",
    "import pandas as pd\n",
    "\n",
    "file = pd.read_csv(\"C:\\\\Users\\\\akash\\\\Downloads\\\\PYTHON\\\\data_jobs.csv\")\n",
    "type(file)"
   ]
  },
  {
   "cell_type": "code",
   "execution_count": 3,
   "id": "05e31e2a",
   "metadata": {},
   "outputs": [],
   "source": [
    "#file is a big file so filter it take DA and canada only \n",
    "\n",
    "df_DA_canada = file[(file.job_title_short == 'Data Analyst') & (file.job_country == 'Canada')]"
   ]
  },
  {
   "cell_type": "code",
   "execution_count": null,
   "id": "36903b11",
   "metadata": {},
   "outputs": [],
   "source": [
    "df_DA_canada"
   ]
  },
  {
   "cell_type": "code",
   "execution_count": 5,
   "id": "e60dead6",
   "metadata": {},
   "outputs": [
    {
     "data": {
      "text/plain": [
       "pandas.core.frame.DataFrame"
      ]
     },
     "execution_count": 5,
     "metadata": {},
     "output_type": "execute_result"
    }
   ],
   "source": [
    "df_DA_canada = df_DA_canada\n",
    "[\n",
    "    df_DA_canada.job_title_short.isin\n",
    "    ([\n",
    "        'Data Scientist','Data Engineer','Data Analyst','Business Analyst'\n",
    "    ]) \n",
    "    & \n",
    "    (df_DA_canada.job_country == 'Canada')\n",
    "]\n",
    "\n",
    "type(df_DA_canada)"
   ]
  }
 ],
 "metadata": {
  "kernelspec": {
   "display_name": "base",
   "language": "python",
   "name": "python3"
  },
  "language_info": {
   "codemirror_mode": {
    "name": "ipython",
    "version": 3
   },
   "file_extension": ".py",
   "mimetype": "text/x-python",
   "name": "python",
   "nbconvert_exporter": "python",
   "pygments_lexer": "ipython3",
   "version": "3.12.7"
  }
 },
 "nbformat": 4,
 "nbformat_minor": 5
}
