{
 "cells": [
  {
   "cell_type": "code",
   "execution_count": null,
   "id": "77ffb5f8",
   "metadata": {},
   "outputs": [
    {
     "name": "stdout",
     "output_type": "stream",
     "text": [
      "value in $90,000\n"
     ]
    }
   ],
   "source": [
    "salary = 90000\n",
    "print(f'value in ${salary :,.0f}')\n",
    "# , is for ,000,000\n",
    "# .0F - NO DECIMAL PLACES \n",
    "# .1F - 1 DECIMAL PLACE \n"
   ]
  }
 ],
 "metadata": {
  "kernelspec": {
   "display_name": "base",
   "language": "python",
   "name": "python3"
  },
  "language_info": {
   "codemirror_mode": {
    "name": "ipython",
    "version": 3
   },
   "file_extension": ".py",
   "mimetype": "text/x-python",
   "name": "python",
   "nbconvert_exporter": "python",
   "pygments_lexer": "ipython3",
   "version": "3.12.7"
  }
 },
 "nbformat": 4,
 "nbformat_minor": 5
}
