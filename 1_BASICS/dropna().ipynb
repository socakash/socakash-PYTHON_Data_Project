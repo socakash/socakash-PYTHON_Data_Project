{
 "cells": [
  {
   "cell_type": "code",
   "execution_count": null,
   "id": "aa5a4acd",
   "metadata": {},
   "outputs": [],
   "source": [
    "file_new = file_new.dropna(subset= ['job_skills'])"
   ]
  }
 ],
 "metadata": {
  "language_info": {
   "name": "python"
  }
 },
 "nbformat": 4,
 "nbformat_minor": 5
}
