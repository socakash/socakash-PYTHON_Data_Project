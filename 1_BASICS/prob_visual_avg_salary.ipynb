{
  "nbformat": 4,
  "nbformat_minor": 0,
  "metadata": {
    "colab": {
      "provenance": []
    },
    "kernelspec": {
      "name": "python3",
      "display_name": "Python 3"
    },
    "language_info": {
      "name": "python"
    }
  },
  "cells": [
    {
      "cell_type": "code",
      "execution_count": null,
      "metadata": {
        "id": "i6uM9B7idlQL"
      },
      "outputs": [],
      "source": [
        "import numpy as np\n",
        "import matplotlib.pyplot as plt\n",
        "import pandas as pd"
      ]
    },
    {
      "cell_type": "code",
      "source": [
        "file= pd.read_csv('/content/sample_data/data_jobs.csv')"
      ],
      "metadata": {
        "id": "C11IQwl_d8BK"
      },
      "execution_count": null,
      "outputs": []
    },
    {
      "cell_type": "code",
      "source": [
        "file.info()"
      ],
      "metadata": {
        "colab": {
          "base_uri": "https://localhost:8080/"
        },
        "id": "UN1MWAxMeg14",
        "outputId": "47e99585-3ca7-476d-9f0c-5ea707d425fa"
      },
      "execution_count": null,
      "outputs": [
        {
          "output_type": "stream",
          "name": "stdout",
          "text": [
            "<class 'pandas.core.frame.DataFrame'>\n",
            "RangeIndex: 785741 entries, 0 to 785740\n",
            "Data columns (total 17 columns):\n",
            " #   Column                 Non-Null Count   Dtype  \n",
            "---  ------                 --------------   -----  \n",
            " 0   job_title_short        785741 non-null  object \n",
            " 1   job_title              785740 non-null  object \n",
            " 2   job_location           784696 non-null  object \n",
            " 3   job_via                785733 non-null  object \n",
            " 4   job_schedule_type      773074 non-null  object \n",
            " 5   job_work_from_home     785741 non-null  bool   \n",
            " 6   search_location        785741 non-null  object \n",
            " 7   job_posted_date        785741 non-null  object \n",
            " 8   job_no_degree_mention  785741 non-null  bool   \n",
            " 9   job_health_insurance   785741 non-null  bool   \n",
            " 10  job_country            785692 non-null  object \n",
            " 11  salary_rate            33067 non-null   object \n",
            " 12  salary_year_avg        22003 non-null   float64\n",
            " 13  salary_hour_avg        10662 non-null   float64\n",
            " 14  company_name           785723 non-null  object \n",
            " 15  job_skills             668704 non-null  object \n",
            " 16  job_type_skills        668704 non-null  object \n",
            "dtypes: bool(3), float64(2), object(12)\n",
            "memory usage: 86.2+ MB\n"
          ]
        }
      ]
    },
    {
      "cell_type": "code",
      "source": [
        "file_new = file[['job_title', 'salary_year_avg']].dropna(subset= ['salary_year_avg'])"
      ],
      "metadata": {
        "id": "URjyXpG2etBH"
      },
      "execution_count": null,
      "outputs": []
    },
    {
      "cell_type": "code",
      "source": [],
      "metadata": {
        "id": "bzkBAgLAgYEc"
      },
      "execution_count": null,
      "outputs": []
    },
    {
      "cell_type": "code",
      "source": [
        "file.dropna(subset = ['salary_year_avg'], inplace= True)"
      ],
      "metadata": {
        "id": "nMGmBUtefqco"
      },
      "execution_count": null,
      "outputs": []
    },
    {
      "cell_type": "code",
      "source": [
        "file_new.dropna(subset=['salary_year_avg'], inplace= True)"
      ],
      "metadata": {
        "id": "XEtLAKFhlSDO"
      },
      "execution_count": null,
      "outputs": []
    },
    {
      "cell_type": "code",
      "source": [
        "file['job_posted_date'] = pd.to_datetime(file['job_posted_date'])"
      ],
      "metadata": {
        "id": "FhjHb6TfhH8z"
      },
      "execution_count": null,
      "outputs": []
    },
    {
      "cell_type": "code",
      "source": [
        "file_new.info()"
      ],
      "metadata": {
        "colab": {
          "base_uri": "https://localhost:8080/"
        },
        "id": "-8xTG1N_hexe",
        "outputId": "04886b9b-5163-4b3e-bb22-aedd7a4b340b"
      },
      "execution_count": null,
      "outputs": [
        {
          "output_type": "stream",
          "name": "stdout",
          "text": [
            "<class 'pandas.core.frame.DataFrame'>\n",
            "Index: 22003 entries, 28 to 785692\n",
            "Data columns (total 2 columns):\n",
            " #   Column           Non-Null Count  Dtype  \n",
            "---  ------           --------------  -----  \n",
            " 0   job_title        22003 non-null  object \n",
            " 1   salary_year_avg  22003 non-null  float64\n",
            "dtypes: float64(1), object(1)\n",
            "memory usage: 515.7+ KB\n"
          ]
        }
      ]
    },
    {
      "cell_type": "code",
      "source": [
        "file_new.groupby('job_title')['salary_year_avg'].median()"
      ],
      "metadata": {
        "colab": {
          "base_uri": "https://localhost:8080/",
          "height": 489
        },
        "id": "vTZ36uWvlgSm",
        "outputId": "16e3c20d-f07d-41c1-c39e-9b6828eb4af3"
      },
      "execution_count": null,
      "outputs": [
        {
          "output_type": "execute_result",
          "data": {
            "text/plain": [
              "job_title\n",
              "#10049 - Sr. Data Scientist                                             147500.0\n",
              "#10128 - Data Analytics Roadmap Manager                                 165000.0\n",
              "#10294#1-Data Architect ( ETL , DevOps, data migration)                 165000.0\n",
              "#10965 Junior Data Analyst                                               57500.0\n",
              "#569 Data Engineer Jr.                                                   97444.0\n",
              "                                                                          ...   \n",
              "senior analyst - data management .                                      115000.0\n",
              "シニアビジネスインテリジェンスエンジニア | Sr. Business Intelligence Engineer, Amazon...     79200.0\n",
              "機械学習エンジニア（Machine Learning Engineer）                                    190000.0\n",
              "財務・経営企画/Business Intelligence Engineer, Japan Operations Finance         79200.0\n",
              "🦸Research Engineer/ Data Scientist                                      175000.0\n",
              "Name: salary_year_avg, Length: 10357, dtype: float64"
            ],
            "text/html": [
              "<div>\n",
              "<style scoped>\n",
              "    .dataframe tbody tr th:only-of-type {\n",
              "        vertical-align: middle;\n",
              "    }\n",
              "\n",
              "    .dataframe tbody tr th {\n",
              "        vertical-align: top;\n",
              "    }\n",
              "\n",
              "    .dataframe thead th {\n",
              "        text-align: right;\n",
              "    }\n",
              "</style>\n",
              "<table border=\"1\" class=\"dataframe\">\n",
              "  <thead>\n",
              "    <tr style=\"text-align: right;\">\n",
              "      <th></th>\n",
              "      <th>salary_year_avg</th>\n",
              "    </tr>\n",
              "    <tr>\n",
              "      <th>job_title</th>\n",
              "      <th></th>\n",
              "    </tr>\n",
              "  </thead>\n",
              "  <tbody>\n",
              "    <tr>\n",
              "      <th>#10049 - Sr. Data Scientist</th>\n",
              "      <td>147500.0</td>\n",
              "    </tr>\n",
              "    <tr>\n",
              "      <th>#10128 - Data Analytics Roadmap Manager</th>\n",
              "      <td>165000.0</td>\n",
              "    </tr>\n",
              "    <tr>\n",
              "      <th>#10294#1-Data Architect ( ETL , DevOps, data migration)</th>\n",
              "      <td>165000.0</td>\n",
              "    </tr>\n",
              "    <tr>\n",
              "      <th>#10965 Junior Data Analyst</th>\n",
              "      <td>57500.0</td>\n",
              "    </tr>\n",
              "    <tr>\n",
              "      <th>#569 Data Engineer Jr.</th>\n",
              "      <td>97444.0</td>\n",
              "    </tr>\n",
              "    <tr>\n",
              "      <th>...</th>\n",
              "      <td>...</td>\n",
              "    </tr>\n",
              "    <tr>\n",
              "      <th>senior analyst - data management .</th>\n",
              "      <td>115000.0</td>\n",
              "    </tr>\n",
              "    <tr>\n",
              "      <th>シニアビジネスインテリジェンスエンジニア | Sr. Business Intelligence Engineer, Amazon...</th>\n",
              "      <td>79200.0</td>\n",
              "    </tr>\n",
              "    <tr>\n",
              "      <th>機械学習エンジニア（Machine Learning Engineer）</th>\n",
              "      <td>190000.0</td>\n",
              "    </tr>\n",
              "    <tr>\n",
              "      <th>財務・経営企画/Business Intelligence Engineer, Japan Operations Finance</th>\n",
              "      <td>79200.0</td>\n",
              "    </tr>\n",
              "    <tr>\n",
              "      <th>🦸Research Engineer/ Data Scientist</th>\n",
              "      <td>175000.0</td>\n",
              "    </tr>\n",
              "  </tbody>\n",
              "</table>\n",
              "<p>10357 rows × 1 columns</p>\n",
              "</div><br><label><b>dtype:</b> float64</label>"
            ]
          },
          "metadata": {},
          "execution_count": 28
        }
      ]
    },
    {
      "cell_type": "code",
      "source": [
        "file.groupby('job_title_short')['salary_year_avg'].median().sort_values()"
      ],
      "metadata": {
        "colab": {
          "base_uri": "https://localhost:8080/",
          "height": 429
        },
        "id": "_JWpoveHiZDF",
        "outputId": "112e2fe9-b356-4a7c-c88b-3f7d6009fa47"
      },
      "execution_count": null,
      "outputs": [
        {
          "output_type": "execute_result",
          "data": {
            "text/plain": [
              "job_title_short\n",
              "Business Analyst              85000.0\n",
              "Cloud Engineer                90000.0\n",
              "Data Analyst                  90000.0\n",
              "Software Engineer             99150.0\n",
              "Machine Learning Engineer    106415.0\n",
              "Senior Data Analyst          111175.0\n",
              "Data Engineer                125000.0\n",
              "Data Scientist               127500.0\n",
              "Senior Data Engineer         147500.0\n",
              "Senior Data Scientist        155500.0\n",
              "Name: salary_year_avg, dtype: float64"
            ],
            "text/html": [
              "<div>\n",
              "<style scoped>\n",
              "    .dataframe tbody tr th:only-of-type {\n",
              "        vertical-align: middle;\n",
              "    }\n",
              "\n",
              "    .dataframe tbody tr th {\n",
              "        vertical-align: top;\n",
              "    }\n",
              "\n",
              "    .dataframe thead th {\n",
              "        text-align: right;\n",
              "    }\n",
              "</style>\n",
              "<table border=\"1\" class=\"dataframe\">\n",
              "  <thead>\n",
              "    <tr style=\"text-align: right;\">\n",
              "      <th></th>\n",
              "      <th>salary_year_avg</th>\n",
              "    </tr>\n",
              "    <tr>\n",
              "      <th>job_title_short</th>\n",
              "      <th></th>\n",
              "    </tr>\n",
              "  </thead>\n",
              "  <tbody>\n",
              "    <tr>\n",
              "      <th>Business Analyst</th>\n",
              "      <td>85000.0</td>\n",
              "    </tr>\n",
              "    <tr>\n",
              "      <th>Cloud Engineer</th>\n",
              "      <td>90000.0</td>\n",
              "    </tr>\n",
              "    <tr>\n",
              "      <th>Data Analyst</th>\n",
              "      <td>90000.0</td>\n",
              "    </tr>\n",
              "    <tr>\n",
              "      <th>Software Engineer</th>\n",
              "      <td>99150.0</td>\n",
              "    </tr>\n",
              "    <tr>\n",
              "      <th>Machine Learning Engineer</th>\n",
              "      <td>106415.0</td>\n",
              "    </tr>\n",
              "    <tr>\n",
              "      <th>Senior Data Analyst</th>\n",
              "      <td>111175.0</td>\n",
              "    </tr>\n",
              "    <tr>\n",
              "      <th>Data Engineer</th>\n",
              "      <td>125000.0</td>\n",
              "    </tr>\n",
              "    <tr>\n",
              "      <th>Data Scientist</th>\n",
              "      <td>127500.0</td>\n",
              "    </tr>\n",
              "    <tr>\n",
              "      <th>Senior Data Engineer</th>\n",
              "      <td>147500.0</td>\n",
              "    </tr>\n",
              "    <tr>\n",
              "      <th>Senior Data Scientist</th>\n",
              "      <td>155500.0</td>\n",
              "    </tr>\n",
              "  </tbody>\n",
              "</table>\n",
              "</div><br><label><b>dtype:</b> float64</label>"
            ]
          },
          "metadata": {},
          "execution_count": 29
        }
      ]
    },
    {
      "cell_type": "code",
      "source": [
        "median_sal = file.groupby('job_title_short')['salary_year_avg'].median().sort_values()\n",
        "\n",
        "median_sal.plot(kind= 'bar')"
      ],
      "metadata": {
        "colab": {
          "base_uri": "https://localhost:8080/",
          "height": 642
        },
        "id": "j8LBBIp-m2jx",
        "outputId": "71705727-9da5-4679-929e-c5dbe99ef5f6"
      },
      "execution_count": null,
      "outputs": [
        {
          "output_type": "execute_result",
          "data": {
            "text/plain": [
              "<Axes: xlabel='job_title_short'>"
            ]
          },
          "metadata": {},
          "execution_count": 32
        },
        {
          "output_type": "display_data",
          "data": {
            "text/plain": [
              "<Figure size 640x480 with 1 Axes>"
            ],
            "image/png": "[encoded data removed]"
          },
          "metadata": {}
        }
      ]
    }
  ]
}