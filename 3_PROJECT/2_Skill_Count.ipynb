{
 "cells": [
  {
   "cell_type": "markdown",
   "id": "e52d2b27",
   "metadata": {},
   "source": [
    "# Most demanded skills for top-3 data roles\n",
    "\n",
    "1- clean up skill column \n",
    "2- calc skill count based on job-title short \n",
    "3- calc skill % \n",
    "4- Plot finding "
   ]
  },
  {
   "cell_type": "code",
   "execution_count": 15,
   "id": "93370a8f",
   "metadata": {},
   "outputs": [],
   "source": [
    "import pandas as pd \n",
    "import matplotlib.pyplot as plt \n",
    "import ast \n",
    "\n",
    "file = pd.read_csv(\"C://Users//akash//Downloads//PYTHON//data_jobs.csv\")"
   ]
  },
  {
   "cell_type": "code",
   "execution_count": null,
   "id": "1e9f70f5",
   "metadata": {},
   "outputs": [],
   "source": [
    "#def clear_list(skills):\n",
    " #   if pd.notna(skills):\n",
    "  #      return(ast.literal_eval(skills))\n",
    "   # else:\n",
    "    #    return(skills)\n",
    "    \n",
    "#file.job_skills = file.job_skills.apply(clear_list)\n",
    "\n",
    "#-------------------------------------------------------------------------------------------------\n",
    "file.dropna(subset = ['job_skills'], inplace= True)\n",
    "file.job_skills = file.job_skills.apply(lambda i: ast.literal_eval(i))"
   ]
  },
  {
   "cell_type": "code",
   "execution_count": 25,
   "id": "3e5b9669",
   "metadata": {},
   "outputs": [],
   "source": [
    "# calc skill count based on job_title_short \n",
    "\n",
    "df_us = file[file.job_country == 'United States']"
   ]
  },
  {
   "cell_type": "code",
   "execution_count": null,
   "id": "2bf66eb6",
   "metadata": {},
   "outputs": [],
   "source": [
    "#calc skills listed for every job_title short \n",
    "\n",
    "\n",
    "df_us_explode = df_us.explode('job_skills')"
   ]
  },
  {
   "cell_type": "code",
   "execution_count": 31,
   "id": "6f784588",
   "metadata": {},
   "outputs": [
    {
     "data": {
      "text/plain": [
       "job_title_short\n",
       "Business Analyst              25314\n",
       "Cloud Engineer                 1845\n",
       "Data Analyst                 243864\n",
       "Data Engineer                248719\n",
       "Data Scientist               315081\n",
       "Machine Learning Engineer      5414\n",
       "Senior Data Analyst           51662\n",
       "Senior Data Engineer          76619\n",
       "Senior Data Scientist         72064\n",
       "Software Engineer              8858\n",
       "Name: job_skills, dtype: int64"
      ]
     },
     "execution_count": 31,
     "metadata": {},
     "output_type": "execute_result"
    }
   ],
   "source": [
    "df_us_explode.groupby('job_title_short')['job_skills'].agg('size')"
   ]
  },
  {
   "cell_type": "markdown",
   "id": "6d662f50",
   "metadata": {},
   "source": [
    "job_skills\tjob_title_short\n",
    "python\tData Analyst\n",
    "python\tData Analyst\n",
    "excel\tData Analyst\n",
    "python\tData Scientist\n",
    "sql\tData Scientist\n",
    "\n",
    "Then this line returns:\n",
    "\n",
    "job_skills  job_title_short\n",
    "excel       Data Analyst       1\n",
    "python      Data Analyst       2\n",
    "python      Data Scientist     1\n",
    "sql         Data Scientist     1"
   ]
  },
  {
   "cell_type": "code",
   "execution_count": 60,
   "id": "23e7b2da",
   "metadata": {},
   "outputs": [
    {
     "data": {
      "text/html": [
       "<div>\n",
       "<style scoped>\n",
       "    .dataframe tbody tr th:only-of-type {\n",
       "        vertical-align: middle;\n",
       "    }\n",
       "\n",
       "    .dataframe tbody tr th {\n",
       "        vertical-align: top;\n",
       "    }\n",
       "\n",
       "    .dataframe thead th {\n",
       "        text-align: right;\n",
       "    }\n",
       "</style>\n",
       "<table border=\"1\" class=\"dataframe\">\n",
       "  <thead>\n",
       "    <tr style=\"text-align: right;\">\n",
       "      <th></th>\n",
       "      <th>job_skills</th>\n",
       "      <th>job_title_short</th>\n",
       "      <th>Skill Count</th>\n",
       "    </tr>\n",
       "  </thead>\n",
       "  <tbody>\n",
       "    <tr>\n",
       "      <th>1209</th>\n",
       "      <td>python</td>\n",
       "      <td>Data Scientist</td>\n",
       "      <td>42379</td>\n",
       "    </tr>\n",
       "    <tr>\n",
       "      <th>1521</th>\n",
       "      <td>sql</td>\n",
       "      <td>Data Analyst</td>\n",
       "      <td>34452</td>\n",
       "    </tr>\n",
       "    <tr>\n",
       "      <th>1523</th>\n",
       "      <td>sql</td>\n",
       "      <td>Data Scientist</td>\n",
       "      <td>30034</td>\n",
       "    </tr>\n",
       "  </tbody>\n",
       "</table>\n",
       "</div>"
      ],
      "text/plain": [
       "     job_skills job_title_short  Skill Count\n",
       "1209     python  Data Scientist        42379\n",
       "1521        sql    Data Analyst        34452\n",
       "1523        sql  Data Scientist        30034"
      ]
     },
     "execution_count": 60,
     "metadata": {},
     "output_type": "execute_result"
    }
   ],
   "source": [
    "# getting top 3 skills \n",
    "\n",
    "df_skill_count = df_us_explode.groupby(['job_skills', 'job_title_short']).size()\n",
    "\n",
    "df_skill_count = df_skill_count.reset_index(name= 'Skill Count')\n",
    "\n",
    "df_skill_count = df_skill_count.sort_values('Skill Count', ascending= False).head(3)\n",
    "\n",
    "df_skill_count"
   ]
  },
  {
   "cell_type": "code",
   "execution_count": 69,
   "id": "f3563702",
   "metadata": {},
   "outputs": [
    {
     "data": {
      "text/plain": [
       "Index(['Data Scientist', 'Data Engineer', 'Data Analyst'], dtype='object', name='job_title_short')"
      ]
     },
     "execution_count": 69,
     "metadata": {},
     "output_type": "execute_result"
    }
   ],
   "source": [
    "# getting top 3 roles \n",
    "\n",
    "job_titles = df_us_explode.job_title_short.value_counts().head(3)\n",
    "job_titles = job_titles.index\n",
    "job_titles\n",
    "\n"
   ]
  }
 ],
 "metadata": {
  "kernelspec": {
   "display_name": "base",
   "language": "python",
   "name": "python3"
  },
  "language_info": {
   "codemirror_mode": {
    "name": "ipython",
    "version": 3
   },
   "file_extension": ".py",
   "mimetype": "text/x-python",
   "name": "python",
   "nbconvert_exporter": "python",
   "pygments_lexer": "ipython3",
   "version": "3.12.7"
  }
 },
 "nbformat": 4,
 "nbformat_minor": 5
}
